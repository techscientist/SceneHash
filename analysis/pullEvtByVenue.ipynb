{
 "cells": [
  {
   "cell_type": "code",
   "execution_count": null,
   "metadata": {
    "collapsed": false
   },
   "outputs": [],
   "source": [
    "import requests\n",
    "\n",
    "# API token for Songkick\n",
    "# LA=17835, SF=26330, Chicago=9426, SD=11086, CIN=22040\n",
    "rid = '22040'\n",
    "per_page = 50\n",
    "token = 'WGLTwENb36bAgHNc'\n",
    "query_params = { 'apikey': token,\n",
    "                 'location': 'sk:'+rid,\n",
    "                 'per_page': per_page,\n",
    "                 'page': 1,\n",
    "         }\n",
    "\n",
    "#endpoint = 'http://api.songkick.com/api/3.0/venues/'+venueId+'/calendar.json?'\n",
    "endpoint = 'http://api.songkick.com/api/3.0/events.json?'\n",
    "\n",
    "# One preliminary call to get the total number of entries for pagination:\n",
    "response = requests.get(endpoint, params=query_params)\n",
    "total_results = response.json()['resultsPage']['totalEntries']\n",
    "print \"Total number of entries:\", total_results\n",
    "total_calls = int(total_results/per_page) # Need at least this many, plus:\n",
    "# If 151, or 242, need one more call to grab remainder\n",
    "if float(total_results)/per_page - int(total_results/per_page) > 0:\n",
    "    total_calls += 1\n",
    "    \n",
    "\n",
    "# Loop through all pages, collect 50 events/page\n",
    "all_events_raw = []\n",
    "for p in range(total_calls):\n",
    "    query_params['page'] = (p+1)\n",
    "    response = requests.get(endpoint, params=query_params)\n",
    "    full_data = response.json()['resultsPage']['results']['event']\n",
    "    all_events_raw.append(full_data)\n",
    "    if p % 20 == 0:\n",
    "        print \"Made %i calls, corresponding to %i events...\" % (p, p*50)\n",
    "\n",
    "# Sanity check\n",
    "print \"Done!\"\n",
    "print \"Found this many pages of venues:\", len(all_events_raw)\n"
   ]
  },
  {
   "cell_type": "code",
   "execution_count": null,
   "metadata": {
    "collapsed": false
   },
   "outputs": [],
   "source": [
    "# Sanity checks here, optional cell\n",
    "for page in all_events_raw:\n",
    "    for evt in page:\n",
    "        print evt['location']['city']\n",
    "        print evt['venue']['metroArea']['id']\n"
   ]
  },
  {
   "cell_type": "code",
   "execution_count": null,
   "metadata": {
    "collapsed": false
   },
   "outputs": [],
   "source": [
    "\n",
    "import pymysql as mdb\n",
    "con = mdb.connect('localhost', 'root', '', 'scenehash', autocommit=True, charset='utf8', use_unicode=True) \n",
    "cur = con.cursor()\n",
    "'''\n",
    "cur.execute(\"DROP TABLE IF EXISTS events\")\n",
    "cur.execute(\"CREATE TABLE events\"\n",
    "            \"(pid INT PRIMARY KEY AUTO_INCREMENT, \"\n",
    "            \"evt_id INT, \"\n",
    "            \"evt_name VARCHAR(400), \"\n",
    "            \"venue_name VARCHAR(150), \"\n",
    "            \"venue_id INT, \"\n",
    "            \"city_name VARCHAR(50), \"\n",
    "            \"metro_id INT, \"\n",
    "            \"latitude VARCHAR(20), \"\n",
    "            \"longitude VARCHAR(20), \"\n",
    "            \"evt_url VARCHAR(200), \"\n",
    "            \"artist VARCHAR(200), \"\n",
    "            \"artist_id INT, \"\n",
    "            \"artist_billing VARCHAR(100) ) \"\n",
    "            )\n",
    "'''\n",
    "new_inserts = 0\n",
    "for evt_page in all_events_raw:\n",
    "    for evt in evt_page:\n",
    "        \n",
    "        city = evt['location']['city']\n",
    "        metroId = evt['venue']['metroArea']['id']\n",
    "        # Skip if no artists\n",
    "        if len(evt['performance']) == 0:\n",
    "            continue\n",
    "        lat = evt['location']['lat']\n",
    "        lng = evt['location']['lng']\n",
    "        # Skip if no lat/lon for venue\n",
    "        url = evt['uri']\n",
    "        venueId = evt['venue']['id']\n",
    "        venueName = evt['venue']['displayName']\n",
    "        evtName = evt['displayName']\n",
    "        evtId = evt['id']\n",
    "        \n",
    "        cur.execute(\"SELECT * FROM events WHERE evt_id = %i\" % evtId)\n",
    "        rows = cur.fetchall()\n",
    "        if not rows:\n",
    "\n",
    "            for a in evt['performance']:\n",
    "                #print a['artist']['displayName'], a['artist']['id'], a['billing']\n",
    "                sql_str = 'INSERT INTO events (evt_id,evt_name,venue_name,venue_id,city_name,metro_id,latitude,longitude,evt_url,artist,artist_id,artist_billing) VALUES (%s, %s, %s, %s, %s, %s, %s, %s, %s, %s, %s, %s)'\n",
    "                sql_vals = ( evtId, evtName, venueName, venueId, city, metroId, lat, lng, url, a['artist']['displayName'], a['artist']['id'], a['billing'])\n",
    "                try:\n",
    "                    cur.execute(sql_str, sql_vals)\n",
    "                except Exception:\n",
    "                    continue\n",
    "            print \"Inserted:\", evtName\n",
    "            new_inserts += 1\n",
    "\n",
    "print \"Total new inserts =\", new_inserts\n"
   ]
  },
  {
   "cell_type": "code",
   "execution_count": null,
   "metadata": {
    "collapsed": false
   },
   "outputs": [],
   "source": [
    "\n",
    "with con:\n",
    "    cur = con.cursor()\n",
    "    cur.execute(\"SELECT * FROM events\")\n",
    "    rows = cur.fetchall()\n",
    "    for row in rows:\n",
    "        print row\n",
    "        "
   ]
  },
  {
   "cell_type": "raw",
   "metadata": {},
   "source": []
  },
  {
   "cell_type": "code",
   "execution_count": 1,
   "metadata": {
    "collapsed": false
   },
   "outputs": [
    {
     "name": "stdout",
     "output_type": "stream",
     "text": [
      "19157\n"
     ]
    }
   ],
   "source": [
    "# Isolated cell that queries sql database and creates list of id/artist pairs\n",
    "# Songkick id will be used in next cell against EchoNest API.\n",
    "\n",
    "all_artists = []\n",
    "import pymysql as mdb\n",
    "con = mdb.connect('localhost', 'root', '', 'scenehash', autocommit=True, charset='utf8', use_unicode=True) \n",
    "cur = con.cursor()\n",
    "with con:\n",
    "    cur = con.cursor()\n",
    "    cur.execute(\"SELECT artist_id, artist FROM events\")\n",
    "    rows = cur.fetchall()\n",
    "    for row in rows:\n",
    "        if row[0] not in all_artists:\n",
    "            all_artists.append([row[0], row[1]])\n",
    "\n",
    "# all_artist is a list of unique artist_ids\n",
    "print len(all_artists)\n",
    "\n"
   ]
  },
  {
   "cell_type": "code",
   "execution_count": 2,
   "metadata": {
    "collapsed": false
   },
   "outputs": [
    {
     "name": "stdout",
     "output_type": "stream",
     "text": [
      "Made 500 calls, corresponding to 423 valid artist (0.846000)...\n",
      "Made 1000 calls, corresponding to 744 valid artist (0.744000)...\n",
      "Made 1500 calls, corresponding to 1067 valid artist (0.711333)...\n",
      "Made 2000 calls, corresponding to 1370 valid artist (0.685000)...\n",
      "Made 2500 calls, corresponding to 1715 valid artist (0.686000)...\n",
      "Made 3000 calls, corresponding to 2039 valid artist (0.679667)...\n",
      "Made 3500 calls, corresponding to 2470 valid artist (0.705714)...\n",
      "Made 4000 calls, corresponding to 2852 valid artist (0.713000)...\n",
      "Done!\n",
      "Total number of artists retained: 2984\n"
     ]
    }
   ],
   "source": [
    "import requests\n",
    "import time\n",
    "echo_token = 'WL4JBSOI4ZGXPY8FN'\n",
    "\n",
    "pars = { 'api_key': echo_token,\n",
    "                 'name': 'songkick:artist:177850',\n",
    "                 'bucket': 'hotttnesss',\n",
    "                 'bucket': 'familiarity',\n",
    "                 'bucket': 'terms',\n",
    "         }\n",
    "\n",
    "endpoint = 'http://developer.echonest.com/api/v4/artist/profile?'\n",
    "\n",
    "artist_info_list = []\n",
    "counter = 0\n",
    "for artId, artist in all_artists[15000:]:\n",
    "    # Echo Nest allows 120 calls/min, so:\n",
    "    time.sleep(.5)\n",
    "    # Progress report (before continue statemenst below, because we care about \n",
    "    # total number of API calls made)\n",
    "    counter += 1\n",
    "    if counter % 500 == 0:\n",
    "        print \"Made %i calls, corresponding to %i valid artist (%f)...\" % (counter, len(artist_info_list), len(artist_info_list)/float(counter))\n",
    "    # Set the parameter 'name' to current songkick id\n",
    "    pars['name'] = 'songkick:artist:'+str(artId)\n",
    "    # Make API call to Echo Nest\n",
    "    response = requests.get(endpoint, params=pars)\n",
    "    if 'artist' not in response.json()['response']:\n",
    "        continue\n",
    "    if not response.json()['response']['artist']['terms']:\n",
    "        continue\n",
    "    #print response.headers['X-RateLimit-Remaining']\n",
    "    # We want [ id, name, {term1},{term2},{term3},... ]\n",
    "    id_name_pair = [artId, artist]\n",
    "    artist_info_list.append(id_name_pair + response.json()['response']['artist']['terms'])\n",
    "\n",
    "print \"Done!\"\n",
    "print \"Total number of artists retained:\", len(artist_info_list)\n",
    "\n",
    "import pickle\n",
    "pickle.dump( artist_info_list, open( \"artist_info_15k_20k.pickle\", \"wb\" ) )\n"
   ]
  },
  {
   "cell_type": "code",
   "execution_count": null,
   "metadata": {
    "collapsed": false
   },
   "outputs": [],
   "source": [
    "for i in artist_info_list:\n",
    "    print i\n",
    "print len(artist_info_list)\n"
   ]
  },
  {
   "cell_type": "code",
   "execution_count": null,
   "metadata": {
    "collapsed": false
   },
   "outputs": [],
   "source": []
  },
  {
   "cell_type": "code",
   "execution_count": null,
   "metadata": {
    "collapsed": false
   },
   "outputs": [],
   "source": []
  },
  {
   "cell_type": "code",
   "execution_count": null,
   "metadata": {
    "collapsed": true
   },
   "outputs": [],
   "source": []
  }
 ],
 "metadata": {
  "kernelspec": {
   "display_name": "Python 2",
   "language": "python",
   "name": "python2"
  },
  "language_info": {
   "codemirror_mode": {
    "name": "ipython",
    "version": 2
   },
   "file_extension": ".py",
   "mimetype": "text/x-python",
   "name": "python",
   "nbconvert_exporter": "python",
   "pygments_lexer": "ipython2",
   "version": "2.7.6"
  }
 },
 "nbformat": 4,
 "nbformat_minor": 0
}
