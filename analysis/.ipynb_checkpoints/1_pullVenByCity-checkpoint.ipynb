{
 "cells": [
  {
   "cell_type": "code",
   "execution_count": 42,
   "metadata": {
    "collapsed": false,
    "scrolled": true
   },
   "outputs": [
    {
     "name": "stdout",
     "output_type": "stream",
     "text": [
      "Total number of entries: 2620\n",
      "Made 0 calls, corresponding to 0 venues...\n",
      "Made 20 calls, corresponding to 1000 venues...\n",
      "Made 40 calls, corresponding to 2000 venues...\n",
      "Done!\n",
      "Found this many pages of venues: 53\n"
     ]
    }
   ],
   "source": [
    "# To add new city, search for metroID using this API call:\n",
    "# Then change 'region' below to CITY_NAME\n",
    "# In following cell, you will need metro ID before inserting into SQL Table\n",
    "import requests\n",
    "\n",
    "# API token for Songkick (provide your own!)\n",
    "token = 'XXXXXXXXX'\n",
    "# ID for metro area\n",
    "#region = 'San Francisco' #San Francisco metroID=26330\n",
    "#region = 'Los Angeles'  #Los Angeles metroID=17835\n",
    "#region = 'Chicago'   #Chicago metroID=9426\n",
    "region = 'San Diego' #San Diego = 11086\n",
    "#region = 'Cincinnati' #Cincinnati = 22040\n",
    "per_page = 50 # Results per page\n",
    "\n",
    "# 26 venues in Oakland\n",
    "query_params = { 'apikey': token,\n",
    "                 'query': region,\n",
    "                 'per_page': per_page,\n",
    "                 'page': 1,\n",
    "         }\n",
    "\n",
    "# Base URL for event search\n",
    "#endpoint = 'http://api.songkick.com/api/3.0/metro_areas/'+mid+'/calendar.json?'\n",
    "# Base URL for venue search\n",
    "endpoint = 'http://api.songkick.com/api/3.0/search/venues.json?'\n",
    "\n",
    "# One preliminary call to get the total number of entries:\n",
    "response = requests.get(endpoint, params=query_params)\n",
    "total_results = response.json()['resultsPage']['totalEntries']\n",
    "print \"Total number of entries:\", total_results\n",
    "total_calls = int(total_results/per_page) # Need at least this many, plus:\n",
    "# If 151, or 242, need one more call to grab remainder\n",
    "if float(total_results)/per_page - int(total_results/per_page) > 0:\n",
    "    total_calls += 1\n",
    "\n",
    "# For storing raw venue info, 50 per entry\n",
    "all_venues_raw = []\n",
    "for p in range(total_calls):\n",
    "    # Starts at 0, so +1 for page=1\n",
    "    query_params['page'] = (p+1)\n",
    "    response = requests.get( endpoint, params=query_params)\n",
    "    full_data = response.json()['resultsPage']['results']['venue']\n",
    "    # Append to our list\n",
    "    all_venues_raw.append(full_data)\n",
    "    if p % 20 == 0:\n",
    "        print \"Made %i calls, corresponding to %i venues...\" % (p, p*50)\n",
    "\n",
    "# Sanity check\n",
    "print \"Done!\"\n",
    "print \"Found this many pages of venues:\", len(all_venues_raw)\n",
    "\n"
   ]
  },
  {
   "cell_type": "code",
   "execution_count": null,
   "metadata": {
    "collapsed": false
   },
   "outputs": [],
   "source": [
    "# Sanity checks here, optional cell\n",
    "print all_venues_raw[4][3]\n",
    "for page in all_venues_raw:\n",
    "    for venue in page:\n",
    "        if venue['metroArea']['id'] != 17835:\n",
    "            print venue['id'] #venue['metroArea']['id']\n"
   ]
  },
  {
   "cell_type": "code",
   "execution_count": 43,
   "metadata": {
    "collapsed": false,
    "scrolled": true
   },
   "outputs": [],
   "source": [
    "#all_venues_raw is list, each entry holds raw information for 50 venues\n",
    "\n",
    "import pymysql as mdb\n",
    "con = mdb.connect('localhost', 'root', '', 'scenehash', autocommit=True, charset='utf8', use_unicode=True) \n",
    "cur = con.cursor()\n",
    "\n",
    "\"\"\"\n",
    "cur.execute(\"DROP TABLE IF EXISTS venues\")\n",
    "cur.execute(\"CREATE TABLE venues\"\n",
    "            \"(pid INT PRIMARY KEY AUTO_INCREMENT, \"\n",
    "            \"id INT, \"\n",
    "            \"name VARCHAR(150), \"\n",
    "            \"city_name VARCHAR(50), \"\n",
    "            \"metro_id INT, \"\n",
    "            \"latitude VARCHAR(20), \"\n",
    "            \"longitude VARCHAR(20), \"\n",
    "            \"url VARCHAR(200) ) \"\n",
    "            )\n",
    "\"\"\"\n",
    "# Following code checks that venue doesn't already exist to avoid multiple entries\n",
    "for page in all_venues_raw:\n",
    "    for venue in page:\n",
    "        city = venue['city']['displayName']\n",
    "        metroId = venue['metroArea']['id']\n",
    "        # LA=17835, SF=26330, Chicago=9426, SD=11086, CIN=22040\n",
    "        if (metroId != 11086):\n",
    "            continue\n",
    "        lat = venue['lat']\n",
    "        lng = venue['lng']\n",
    "        url = venue['uri']\n",
    "        venueId = venue['id']\n",
    "        name = venue['displayName']\n",
    "        #print venueId\n",
    "        cur.execute(\"SELECT * FROM venues WHERE id = %i\" % venueId)\n",
    "        rows = cur.fetchall()\n",
    "        if not rows: \n",
    "            \n",
    "            #print venueId, city, metroId, lat, lng, url\n",
    "            sql_str = 'INSERT INTO venues (id, city_name, metro_id, latitude, longitude, url) VALUES (%s, %s, %s, %s, %s, %s)'\n",
    "            sql_vals = ( venueId, city, metroId, lat, lng, url)\n",
    "            cur.execute(sql_str, sql_vals)\n",
    "            print \"Inserted:\", venueId #, city, metroId, lat, lng, url\n",
    "\n"
   ]
  }
 ],
 "metadata": {
  "kernelspec": {
   "display_name": "Python 2",
   "language": "python",
   "name": "python2"
  },
  "language_info": {
   "codemirror_mode": {
    "name": "ipython",
    "version": 2
   },
   "file_extension": ".py",
   "mimetype": "text/x-python",
   "name": "python",
   "nbconvert_exporter": "python",
   "pygments_lexer": "ipython2",
   "version": "2.7.6"
  }
 },
 "nbformat": 4,
 "nbformat_minor": 0
}
